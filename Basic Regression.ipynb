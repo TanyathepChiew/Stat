{
 "cells": [
  {
   "cell_type": "code",
   "execution_count": 1,
   "id": "a224aec3-fefd-4853-ac54-60c2dc8cd160",
   "metadata": {
    "tags": []
   },
   "outputs": [],
   "source": [
    "# Import Library and Data"
   ]
  },
  {
   "cell_type": "code",
   "execution_count": 2,
   "id": "2f3f569e-98a8-419f-9201-46f8df102bff",
   "metadata": {
    "tags": []
   },
   "outputs": [],
   "source": [
    "import matplotlib.pyplot as plt\n",
    "import numpy as np\n",
    "import pandas as pd\n",
    "import statsmodels.api as sm"
   ]
  },
  {
   "cell_type": "code",
   "execution_count": 3,
   "id": "f81c9cce-9f6f-4739-974a-5526d344dbce",
   "metadata": {
    "tags": []
   },
   "outputs": [],
   "source": [
    "# https://www.kaggle.com/datasets/harrimansaragih/dummy-advertising-and-sales-data"
   ]
  },
  {
   "cell_type": "code",
   "execution_count": 4,
   "id": "b6956610-ea33-4001-b6d4-266ed5b66de7",
   "metadata": {
    "tags": []
   },
   "outputs": [
    {
     "data": {
      "text/html": [
       "<div>\n",
       "<style scoped>\n",
       "    .dataframe tbody tr th:only-of-type {\n",
       "        vertical-align: middle;\n",
       "    }\n",
       "\n",
       "    .dataframe tbody tr th {\n",
       "        vertical-align: top;\n",
       "    }\n",
       "\n",
       "    .dataframe thead th {\n",
       "        text-align: right;\n",
       "    }\n",
       "</style>\n",
       "<table border=\"1\" class=\"dataframe\">\n",
       "  <thead>\n",
       "    <tr style=\"text-align: right;\">\n",
       "      <th></th>\n",
       "      <th>TV</th>\n",
       "      <th>Radio</th>\n",
       "      <th>Social Media</th>\n",
       "      <th>Influencer</th>\n",
       "      <th>Sales</th>\n",
       "    </tr>\n",
       "  </thead>\n",
       "  <tbody>\n",
       "    <tr>\n",
       "      <th>0</th>\n",
       "      <td>16.0</td>\n",
       "      <td>6.566231</td>\n",
       "      <td>2.907983</td>\n",
       "      <td>Mega</td>\n",
       "      <td>54.732757</td>\n",
       "    </tr>\n",
       "    <tr>\n",
       "      <th>1</th>\n",
       "      <td>13.0</td>\n",
       "      <td>9.237765</td>\n",
       "      <td>2.409567</td>\n",
       "      <td>Mega</td>\n",
       "      <td>46.677897</td>\n",
       "    </tr>\n",
       "    <tr>\n",
       "      <th>2</th>\n",
       "      <td>41.0</td>\n",
       "      <td>15.886446</td>\n",
       "      <td>2.913410</td>\n",
       "      <td>Mega</td>\n",
       "      <td>150.177829</td>\n",
       "    </tr>\n",
       "    <tr>\n",
       "      <th>3</th>\n",
       "      <td>83.0</td>\n",
       "      <td>30.020028</td>\n",
       "      <td>6.922304</td>\n",
       "      <td>Mega</td>\n",
       "      <td>298.246340</td>\n",
       "    </tr>\n",
       "    <tr>\n",
       "      <th>4</th>\n",
       "      <td>15.0</td>\n",
       "      <td>8.437408</td>\n",
       "      <td>1.405998</td>\n",
       "      <td>Micro</td>\n",
       "      <td>56.594181</td>\n",
       "    </tr>\n",
       "    <tr>\n",
       "      <th>...</th>\n",
       "      <td>...</td>\n",
       "      <td>...</td>\n",
       "      <td>...</td>\n",
       "      <td>...</td>\n",
       "      <td>...</td>\n",
       "    </tr>\n",
       "    <tr>\n",
       "      <th>4567</th>\n",
       "      <td>26.0</td>\n",
       "      <td>4.472360</td>\n",
       "      <td>0.717090</td>\n",
       "      <td>Micro</td>\n",
       "      <td>94.685866</td>\n",
       "    </tr>\n",
       "    <tr>\n",
       "      <th>4568</th>\n",
       "      <td>71.0</td>\n",
       "      <td>20.610685</td>\n",
       "      <td>6.545573</td>\n",
       "      <td>Nano</td>\n",
       "      <td>249.101915</td>\n",
       "    </tr>\n",
       "    <tr>\n",
       "      <th>4569</th>\n",
       "      <td>44.0</td>\n",
       "      <td>19.800072</td>\n",
       "      <td>5.096192</td>\n",
       "      <td>Micro</td>\n",
       "      <td>163.631457</td>\n",
       "    </tr>\n",
       "    <tr>\n",
       "      <th>4570</th>\n",
       "      <td>71.0</td>\n",
       "      <td>17.534640</td>\n",
       "      <td>1.940873</td>\n",
       "      <td>Macro</td>\n",
       "      <td>253.610411</td>\n",
       "    </tr>\n",
       "    <tr>\n",
       "      <th>4571</th>\n",
       "      <td>42.0</td>\n",
       "      <td>15.966688</td>\n",
       "      <td>5.046548</td>\n",
       "      <td>Micro</td>\n",
       "      <td>148.202414</td>\n",
       "    </tr>\n",
       "  </tbody>\n",
       "</table>\n",
       "<p>4572 rows × 5 columns</p>\n",
       "</div>"
      ],
      "text/plain": [
       "        TV      Radio  Social Media Influencer       Sales\n",
       "0     16.0   6.566231      2.907983       Mega   54.732757\n",
       "1     13.0   9.237765      2.409567       Mega   46.677897\n",
       "2     41.0  15.886446      2.913410       Mega  150.177829\n",
       "3     83.0  30.020028      6.922304       Mega  298.246340\n",
       "4     15.0   8.437408      1.405998      Micro   56.594181\n",
       "...    ...        ...           ...        ...         ...\n",
       "4567  26.0   4.472360      0.717090      Micro   94.685866\n",
       "4568  71.0  20.610685      6.545573       Nano  249.101915\n",
       "4569  44.0  19.800072      5.096192      Micro  163.631457\n",
       "4570  71.0  17.534640      1.940873      Macro  253.610411\n",
       "4571  42.0  15.966688      5.046548      Micro  148.202414\n",
       "\n",
       "[4572 rows x 5 columns]"
      ]
     },
     "execution_count": 4,
     "metadata": {},
     "output_type": "execute_result"
    }
   ],
   "source": [
    "df = pd.read_csv('Dummy Data HSS.csv')\n",
    "df"
   ]
  },
  {
   "cell_type": "code",
   "execution_count": 5,
   "id": "82774e04-c3f8-4bb8-985b-1e942eb92031",
   "metadata": {
    "tags": []
   },
   "outputs": [],
   "source": [
    "# Clean Data"
   ]
  },
  {
   "cell_type": "code",
   "execution_count": 6,
   "id": "02a3c836-eddc-4dfb-b1a3-e5d5755b9a31",
   "metadata": {
    "tags": []
   },
   "outputs": [
    {
     "data": {
      "text/plain": [
       "TV              10\n",
       "Radio            4\n",
       "Social Media     6\n",
       "Influencer       0\n",
       "Sales            6\n",
       "dtype: int64"
      ]
     },
     "execution_count": 6,
     "metadata": {},
     "output_type": "execute_result"
    }
   ],
   "source": [
    "df.isnull().sum()"
   ]
  },
  {
   "cell_type": "code",
   "execution_count": 7,
   "id": "5de48155-3781-4095-a941-81d71659cecb",
   "metadata": {
    "tags": []
   },
   "outputs": [
    {
     "data": {
      "text/plain": [
       "TV              0\n",
       "Radio           0\n",
       "Social Media    0\n",
       "Influencer      0\n",
       "Sales           0\n",
       "dtype: int64"
      ]
     },
     "execution_count": 7,
     "metadata": {},
     "output_type": "execute_result"
    }
   ],
   "source": [
    "df.dropna(inplace=True)\n",
    "df.isnull().sum()"
   ]
  },
  {
   "cell_type": "code",
   "execution_count": 8,
   "id": "98d915b8-55bd-4a6a-bb3d-a042db78a645",
   "metadata": {
    "tags": []
   },
   "outputs": [
    {
     "name": "stdout",
     "output_type": "stream",
     "text": [
      "<class 'pandas.core.frame.DataFrame'>\n",
      "Index: 4546 entries, 0 to 4571\n",
      "Data columns (total 5 columns):\n",
      " #   Column        Non-Null Count  Dtype  \n",
      "---  ------        --------------  -----  \n",
      " 0   TV            4546 non-null   float64\n",
      " 1   Radio         4546 non-null   float64\n",
      " 2   Social Media  4546 non-null   float64\n",
      " 3   Influencer    4546 non-null   object \n",
      " 4   Sales         4546 non-null   float64\n",
      "dtypes: float64(4), object(1)\n",
      "memory usage: 213.1+ KB\n"
     ]
    }
   ],
   "source": [
    "df.info()"
   ]
  },
  {
   "cell_type": "code",
   "execution_count": 9,
   "id": "1147fbe6-1656-4d6c-83f8-02afe384ed22",
   "metadata": {
    "tags": []
   },
   "outputs": [
    {
     "data": {
      "text/plain": [
       "array(['Mega', 'Micro', 'Nano', 'Macro'], dtype=object)"
      ]
     },
     "execution_count": 9,
     "metadata": {},
     "output_type": "execute_result"
    }
   ],
   "source": [
    "df.Influencer.unique()"
   ]
  },
  {
   "cell_type": "code",
   "execution_count": 10,
   "id": "43ff1d86-2265-40bb-9c3c-37112a76f833",
   "metadata": {
    "tags": []
   },
   "outputs": [
    {
     "data": {
      "text/html": [
       "<div>\n",
       "<style scoped>\n",
       "    .dataframe tbody tr th:only-of-type {\n",
       "        vertical-align: middle;\n",
       "    }\n",
       "\n",
       "    .dataframe tbody tr th {\n",
       "        vertical-align: top;\n",
       "    }\n",
       "\n",
       "    .dataframe thead th {\n",
       "        text-align: right;\n",
       "    }\n",
       "</style>\n",
       "<table border=\"1\" class=\"dataframe\">\n",
       "  <thead>\n",
       "    <tr style=\"text-align: right;\">\n",
       "      <th></th>\n",
       "      <th>TV</th>\n",
       "      <th>Radio</th>\n",
       "      <th>Social Media</th>\n",
       "      <th>Influencer</th>\n",
       "      <th>Sales</th>\n",
       "    </tr>\n",
       "  </thead>\n",
       "  <tbody>\n",
       "    <tr>\n",
       "      <th>0</th>\n",
       "      <td>16.0</td>\n",
       "      <td>6.566231</td>\n",
       "      <td>2.907983</td>\n",
       "      <td>3</td>\n",
       "      <td>54.732757</td>\n",
       "    </tr>\n",
       "    <tr>\n",
       "      <th>1</th>\n",
       "      <td>13.0</td>\n",
       "      <td>9.237765</td>\n",
       "      <td>2.409567</td>\n",
       "      <td>3</td>\n",
       "      <td>46.677897</td>\n",
       "    </tr>\n",
       "    <tr>\n",
       "      <th>2</th>\n",
       "      <td>41.0</td>\n",
       "      <td>15.886446</td>\n",
       "      <td>2.913410</td>\n",
       "      <td>3</td>\n",
       "      <td>150.177829</td>\n",
       "    </tr>\n",
       "    <tr>\n",
       "      <th>3</th>\n",
       "      <td>83.0</td>\n",
       "      <td>30.020028</td>\n",
       "      <td>6.922304</td>\n",
       "      <td>3</td>\n",
       "      <td>298.246340</td>\n",
       "    </tr>\n",
       "    <tr>\n",
       "      <th>4</th>\n",
       "      <td>15.0</td>\n",
       "      <td>8.437408</td>\n",
       "      <td>1.405998</td>\n",
       "      <td>1</td>\n",
       "      <td>56.594181</td>\n",
       "    </tr>\n",
       "  </tbody>\n",
       "</table>\n",
       "</div>"
      ],
      "text/plain": [
       "     TV      Radio  Social Media  Influencer       Sales\n",
       "0  16.0   6.566231      2.907983           3   54.732757\n",
       "1  13.0   9.237765      2.409567           3   46.677897\n",
       "2  41.0  15.886446      2.913410           3  150.177829\n",
       "3  83.0  30.020028      6.922304           3  298.246340\n",
       "4  15.0   8.437408      1.405998           1   56.594181"
      ]
     },
     "execution_count": 10,
     "metadata": {},
     "output_type": "execute_result"
    }
   ],
   "source": [
    "df['Influencer'] = df['Influencer'].map({'Nano':0, 'Micro':1, 'Macro':2, 'Mega':3})\n",
    "df.head()"
   ]
  },
  {
   "cell_type": "code",
   "execution_count": 11,
   "id": "435dcebb-19a2-4bb7-879a-60765e1cf537",
   "metadata": {
    "tags": []
   },
   "outputs": [],
   "source": [
    "# Descriptive Statistics"
   ]
  },
  {
   "cell_type": "code",
   "execution_count": 12,
   "id": "ccb5a5f3-1ee8-4774-8009-baa2e5e40789",
   "metadata": {
    "tags": []
   },
   "outputs": [
    {
     "data": {
      "text/html": [
       "<div>\n",
       "<style scoped>\n",
       "    .dataframe tbody tr th:only-of-type {\n",
       "        vertical-align: middle;\n",
       "    }\n",
       "\n",
       "    .dataframe tbody tr th {\n",
       "        vertical-align: top;\n",
       "    }\n",
       "\n",
       "    .dataframe thead th {\n",
       "        text-align: right;\n",
       "    }\n",
       "</style>\n",
       "<table border=\"1\" class=\"dataframe\">\n",
       "  <thead>\n",
       "    <tr style=\"text-align: right;\">\n",
       "      <th></th>\n",
       "      <th>TV</th>\n",
       "      <th>Radio</th>\n",
       "      <th>Social Media</th>\n",
       "      <th>Influencer</th>\n",
       "      <th>Sales</th>\n",
       "    </tr>\n",
       "  </thead>\n",
       "  <tbody>\n",
       "    <tr>\n",
       "      <th>count</th>\n",
       "      <td>4546.000000</td>\n",
       "      <td>4546.000000</td>\n",
       "      <td>4546.000000</td>\n",
       "      <td>4546.00000</td>\n",
       "      <td>4546.000000</td>\n",
       "    </tr>\n",
       "    <tr>\n",
       "      <th>mean</th>\n",
       "      <td>54.062912</td>\n",
       "      <td>18.157533</td>\n",
       "      <td>3.323473</td>\n",
       "      <td>1.50198</td>\n",
       "      <td>192.413332</td>\n",
       "    </tr>\n",
       "    <tr>\n",
       "      <th>std</th>\n",
       "      <td>26.104942</td>\n",
       "      <td>9.663260</td>\n",
       "      <td>2.211254</td>\n",
       "      <td>1.12071</td>\n",
       "      <td>93.019873</td>\n",
       "    </tr>\n",
       "    <tr>\n",
       "      <th>min</th>\n",
       "      <td>10.000000</td>\n",
       "      <td>0.000684</td>\n",
       "      <td>0.000031</td>\n",
       "      <td>0.00000</td>\n",
       "      <td>31.199409</td>\n",
       "    </tr>\n",
       "    <tr>\n",
       "      <th>25%</th>\n",
       "      <td>32.000000</td>\n",
       "      <td>10.555355</td>\n",
       "      <td>1.530822</td>\n",
       "      <td>1.00000</td>\n",
       "      <td>112.434612</td>\n",
       "    </tr>\n",
       "    <tr>\n",
       "      <th>50%</th>\n",
       "      <td>53.000000</td>\n",
       "      <td>17.859513</td>\n",
       "      <td>3.055565</td>\n",
       "      <td>1.00000</td>\n",
       "      <td>188.963678</td>\n",
       "    </tr>\n",
       "    <tr>\n",
       "      <th>75%</th>\n",
       "      <td>77.000000</td>\n",
       "      <td>25.640603</td>\n",
       "      <td>4.804919</td>\n",
       "      <td>3.00000</td>\n",
       "      <td>272.324236</td>\n",
       "    </tr>\n",
       "    <tr>\n",
       "      <th>max</th>\n",
       "      <td>100.000000</td>\n",
       "      <td>48.871161</td>\n",
       "      <td>13.981662</td>\n",
       "      <td>3.00000</td>\n",
       "      <td>364.079751</td>\n",
       "    </tr>\n",
       "  </tbody>\n",
       "</table>\n",
       "</div>"
      ],
      "text/plain": [
       "                TV        Radio  Social Media  Influencer        Sales\n",
       "count  4546.000000  4546.000000   4546.000000  4546.00000  4546.000000\n",
       "mean     54.062912    18.157533      3.323473     1.50198   192.413332\n",
       "std      26.104942     9.663260      2.211254     1.12071    93.019873\n",
       "min      10.000000     0.000684      0.000031     0.00000    31.199409\n",
       "25%      32.000000    10.555355      1.530822     1.00000   112.434612\n",
       "50%      53.000000    17.859513      3.055565     1.00000   188.963678\n",
       "75%      77.000000    25.640603      4.804919     3.00000   272.324236\n",
       "max     100.000000    48.871161     13.981662     3.00000   364.079751"
      ]
     },
     "execution_count": 12,
     "metadata": {},
     "output_type": "execute_result"
    }
   ],
   "source": [
    "df.describe()"
   ]
  },
  {
   "cell_type": "code",
   "execution_count": 13,
   "id": "199e54fa-2f04-40ef-a49f-7f7d6d649af4",
   "metadata": {
    "tags": []
   },
   "outputs": [
    {
     "data": {
      "text/html": [
       "<div>\n",
       "<style scoped>\n",
       "    .dataframe tbody tr th:only-of-type {\n",
       "        vertical-align: middle;\n",
       "    }\n",
       "\n",
       "    .dataframe tbody tr th {\n",
       "        vertical-align: top;\n",
       "    }\n",
       "\n",
       "    .dataframe thead th {\n",
       "        text-align: right;\n",
       "    }\n",
       "</style>\n",
       "<table border=\"1\" class=\"dataframe\">\n",
       "  <thead>\n",
       "    <tr style=\"text-align: right;\">\n",
       "      <th></th>\n",
       "      <th>TV</th>\n",
       "      <th>Radio</th>\n",
       "      <th>Social Media</th>\n",
       "      <th>Influencer</th>\n",
       "      <th>Sales</th>\n",
       "    </tr>\n",
       "  </thead>\n",
       "  <tbody>\n",
       "    <tr>\n",
       "      <th>TV</th>\n",
       "      <td>1.000000</td>\n",
       "      <td>0.869158</td>\n",
       "      <td>0.527687</td>\n",
       "      <td>0.000154</td>\n",
       "      <td>0.999497</td>\n",
       "    </tr>\n",
       "    <tr>\n",
       "      <th>Radio</th>\n",
       "      <td>0.869158</td>\n",
       "      <td>1.000000</td>\n",
       "      <td>0.606338</td>\n",
       "      <td>0.003134</td>\n",
       "      <td>0.868638</td>\n",
       "    </tr>\n",
       "    <tr>\n",
       "      <th>Social Media</th>\n",
       "      <td>0.527687</td>\n",
       "      <td>0.606338</td>\n",
       "      <td>1.000000</td>\n",
       "      <td>0.019942</td>\n",
       "      <td>0.527446</td>\n",
       "    </tr>\n",
       "    <tr>\n",
       "      <th>Influencer</th>\n",
       "      <td>0.000154</td>\n",
       "      <td>0.003134</td>\n",
       "      <td>0.019942</td>\n",
       "      <td>1.000000</td>\n",
       "      <td>0.000532</td>\n",
       "    </tr>\n",
       "    <tr>\n",
       "      <th>Sales</th>\n",
       "      <td>0.999497</td>\n",
       "      <td>0.868638</td>\n",
       "      <td>0.527446</td>\n",
       "      <td>0.000532</td>\n",
       "      <td>1.000000</td>\n",
       "    </tr>\n",
       "  </tbody>\n",
       "</table>\n",
       "</div>"
      ],
      "text/plain": [
       "                    TV     Radio  Social Media  Influencer     Sales\n",
       "TV            1.000000  0.869158      0.527687    0.000154  0.999497\n",
       "Radio         0.869158  1.000000      0.606338    0.003134  0.868638\n",
       "Social Media  0.527687  0.606338      1.000000    0.019942  0.527446\n",
       "Influencer    0.000154  0.003134      0.019942    1.000000  0.000532\n",
       "Sales         0.999497  0.868638      0.527446    0.000532  1.000000"
      ]
     },
     "execution_count": 13,
     "metadata": {},
     "output_type": "execute_result"
    }
   ],
   "source": [
    "df.corr()"
   ]
  },
  {
   "cell_type": "code",
   "execution_count": 14,
   "id": "1d07060e-cfd3-415e-b95f-d0a716d94989",
   "metadata": {
    "tags": []
   },
   "outputs": [
    {
     "data": {
      "text/plain": [
       "<matplotlib.collections.PathCollection at 0x20e76a47590>"
      ]
     },
     "execution_count": 14,
     "metadata": {},
     "output_type": "execute_result"
    },
    {
     "data": {
      "image/png": "[encoded data removed]",
      "text/plain": [
       "<Figure size 640x480 with 1 Axes>"
      ]
     },
     "metadata": {},
     "output_type": "display_data"
    }
   ],
   "source": [
    "x = df['Radio']\n",
    "y = df['Sales']\n",
    "plt.scatter(x, y)"
   ]
  },
  {
   "cell_type": "code",
   "execution_count": 15,
   "id": "9bec7d28-d7af-40a4-aea4-85d678e8f07d",
   "metadata": {
    "tags": []
   },
   "outputs": [],
   "source": [
    "# add ln(x) and interaction term"
   ]
  },
  {
   "cell_type": "code",
   "execution_count": 16,
   "id": "35b6969a-0533-4d24-9dc5-2a923a4e56d5",
   "metadata": {
    "tags": []
   },
   "outputs": [
    {
     "data": {
      "text/html": [
       "<div>\n",
       "<style scoped>\n",
       "    .dataframe tbody tr th:only-of-type {\n",
       "        vertical-align: middle;\n",
       "    }\n",
       "\n",
       "    .dataframe tbody tr th {\n",
       "        vertical-align: top;\n",
       "    }\n",
       "\n",
       "    .dataframe thead th {\n",
       "        text-align: right;\n",
       "    }\n",
       "</style>\n",
       "<table border=\"1\" class=\"dataframe\">\n",
       "  <thead>\n",
       "    <tr style=\"text-align: right;\">\n",
       "      <th></th>\n",
       "      <th>TV</th>\n",
       "      <th>Radio</th>\n",
       "      <th>Social Media</th>\n",
       "      <th>Influencer</th>\n",
       "      <th>Sales</th>\n",
       "      <th>ln(TV)</th>\n",
       "    </tr>\n",
       "  </thead>\n",
       "  <tbody>\n",
       "    <tr>\n",
       "      <th>0</th>\n",
       "      <td>16.0</td>\n",
       "      <td>6.566231</td>\n",
       "      <td>2.907983</td>\n",
       "      <td>3</td>\n",
       "      <td>54.732757</td>\n",
       "      <td>2.772589</td>\n",
       "    </tr>\n",
       "    <tr>\n",
       "      <th>1</th>\n",
       "      <td>13.0</td>\n",
       "      <td>9.237765</td>\n",
       "      <td>2.409567</td>\n",
       "      <td>3</td>\n",
       "      <td>46.677897</td>\n",
       "      <td>2.564949</td>\n",
       "    </tr>\n",
       "    <tr>\n",
       "      <th>2</th>\n",
       "      <td>41.0</td>\n",
       "      <td>15.886446</td>\n",
       "      <td>2.913410</td>\n",
       "      <td>3</td>\n",
       "      <td>150.177829</td>\n",
       "      <td>3.713572</td>\n",
       "    </tr>\n",
       "    <tr>\n",
       "      <th>3</th>\n",
       "      <td>83.0</td>\n",
       "      <td>30.020028</td>\n",
       "      <td>6.922304</td>\n",
       "      <td>3</td>\n",
       "      <td>298.246340</td>\n",
       "      <td>4.418841</td>\n",
       "    </tr>\n",
       "    <tr>\n",
       "      <th>4</th>\n",
       "      <td>15.0</td>\n",
       "      <td>8.437408</td>\n",
       "      <td>1.405998</td>\n",
       "      <td>1</td>\n",
       "      <td>56.594181</td>\n",
       "      <td>2.708050</td>\n",
       "    </tr>\n",
       "  </tbody>\n",
       "</table>\n",
       "</div>"
      ],
      "text/plain": [
       "     TV      Radio  Social Media  Influencer       Sales    ln(TV)\n",
       "0  16.0   6.566231      2.907983           3   54.732757  2.772589\n",
       "1  13.0   9.237765      2.409567           3   46.677897  2.564949\n",
       "2  41.0  15.886446      2.913410           3  150.177829  3.713572\n",
       "3  83.0  30.020028      6.922304           3  298.246340  4.418841\n",
       "4  15.0   8.437408      1.405998           1   56.594181  2.708050"
      ]
     },
     "execution_count": 16,
     "metadata": {},
     "output_type": "execute_result"
    }
   ],
   "source": [
    "from numpy import log\n",
    "df['ln(TV)'] = np.log(df['TV'])\n",
    "df.head()"
   ]
  },
  {
   "cell_type": "code",
   "execution_count": 17,
   "id": "13cc1963-382b-4d3f-9233-ab2e6d9c3b7f",
   "metadata": {
    "tags": []
   },
   "outputs": [
    {
     "data": {
      "text/html": [
       "<div>\n",
       "<style scoped>\n",
       "    .dataframe tbody tr th:only-of-type {\n",
       "        vertical-align: middle;\n",
       "    }\n",
       "\n",
       "    .dataframe tbody tr th {\n",
       "        vertical-align: top;\n",
       "    }\n",
       "\n",
       "    .dataframe thead th {\n",
       "        text-align: right;\n",
       "    }\n",
       "</style>\n",
       "<table border=\"1\" class=\"dataframe\">\n",
       "  <thead>\n",
       "    <tr style=\"text-align: right;\">\n",
       "      <th></th>\n",
       "      <th>TV</th>\n",
       "      <th>Radio</th>\n",
       "      <th>Social Media</th>\n",
       "      <th>Influencer</th>\n",
       "      <th>Sales</th>\n",
       "      <th>ln(TV)</th>\n",
       "      <th>Social Media*Influencer</th>\n",
       "    </tr>\n",
       "  </thead>\n",
       "  <tbody>\n",
       "    <tr>\n",
       "      <th>0</th>\n",
       "      <td>16.0</td>\n",
       "      <td>6.566231</td>\n",
       "      <td>2.907983</td>\n",
       "      <td>3</td>\n",
       "      <td>54.732757</td>\n",
       "      <td>2.772589</td>\n",
       "      <td>8.723948</td>\n",
       "    </tr>\n",
       "    <tr>\n",
       "      <th>1</th>\n",
       "      <td>13.0</td>\n",
       "      <td>9.237765</td>\n",
       "      <td>2.409567</td>\n",
       "      <td>3</td>\n",
       "      <td>46.677897</td>\n",
       "      <td>2.564949</td>\n",
       "      <td>7.228702</td>\n",
       "    </tr>\n",
       "    <tr>\n",
       "      <th>2</th>\n",
       "      <td>41.0</td>\n",
       "      <td>15.886446</td>\n",
       "      <td>2.913410</td>\n",
       "      <td>3</td>\n",
       "      <td>150.177829</td>\n",
       "      <td>3.713572</td>\n",
       "      <td>8.740231</td>\n",
       "    </tr>\n",
       "    <tr>\n",
       "      <th>3</th>\n",
       "      <td>83.0</td>\n",
       "      <td>30.020028</td>\n",
       "      <td>6.922304</td>\n",
       "      <td>3</td>\n",
       "      <td>298.246340</td>\n",
       "      <td>4.418841</td>\n",
       "      <td>20.766912</td>\n",
       "    </tr>\n",
       "    <tr>\n",
       "      <th>4</th>\n",
       "      <td>15.0</td>\n",
       "      <td>8.437408</td>\n",
       "      <td>1.405998</td>\n",
       "      <td>1</td>\n",
       "      <td>56.594181</td>\n",
       "      <td>2.708050</td>\n",
       "      <td>1.405998</td>\n",
       "    </tr>\n",
       "  </tbody>\n",
       "</table>\n",
       "</div>"
      ],
      "text/plain": [
       "     TV      Radio  Social Media  Influencer       Sales    ln(TV)  \\\n",
       "0  16.0   6.566231      2.907983           3   54.732757  2.772589   \n",
       "1  13.0   9.237765      2.409567           3   46.677897  2.564949   \n",
       "2  41.0  15.886446      2.913410           3  150.177829  3.713572   \n",
       "3  83.0  30.020028      6.922304           3  298.246340  4.418841   \n",
       "4  15.0   8.437408      1.405998           1   56.594181  2.708050   \n",
       "\n",
       "   Social Media*Influencer  \n",
       "0                 8.723948  \n",
       "1                 7.228702  \n",
       "2                 8.740231  \n",
       "3                20.766912  \n",
       "4                 1.405998  "
      ]
     },
     "execution_count": 17,
     "metadata": {},
     "output_type": "execute_result"
    }
   ],
   "source": [
    "df['Social Media*Influencer'] = df['Social Media']*df['Influencer']\n",
    "df.head()"
   ]
  },
  {
   "cell_type": "code",
   "execution_count": 18,
   "id": "eabc04f5-cc91-4728-9007-558cf10890d6",
   "metadata": {
    "tags": []
   },
   "outputs": [],
   "source": [
    "# Simple linear regression"
   ]
  },
  {
   "cell_type": "code",
   "execution_count": 19,
   "id": "2075e343-6f36-4f99-9b3a-75d1c36e6efa",
   "metadata": {
    "tags": []
   },
   "outputs": [
    {
     "name": "stdout",
     "output_type": "stream",
     "text": [
      "                            OLS Regression Results                            \n",
      "==============================================================================\n",
      "Dep. Variable:                  Sales   R-squared:                       0.999\n",
      "Model:                            OLS   Adj. R-squared:                  0.999\n",
      "Method:                 Least Squares   F-statistic:                 4.517e+06\n",
      "Date:                Mon, 15 Jul 2024   Prob (F-statistic):               0.00\n",
      "Time:                        14:43:17   Log-Likelihood:                -11366.\n",
      "No. Observations:                4546   AIC:                         2.274e+04\n",
      "Df Residuals:                    4544   BIC:                         2.275e+04\n",
      "Df Model:                           1                                         \n",
      "Covariance Type:            nonrobust                                         \n",
      "==============================================================================\n",
      "                 coef    std err          t      P>|t|      [0.025      0.975]\n",
      "------------------------------------------------------------------------------\n",
      "const         -0.1325      0.101     -1.317      0.188      -0.330       0.065\n",
      "TV             3.5615      0.002   2125.272      0.000       3.558       3.565\n",
      "==============================================================================\n",
      "Omnibus:                        0.052   Durbin-Watson:                   1.998\n",
      "Prob(Omnibus):                  0.974   Jarque-Bera (JB):                0.031\n",
      "Skew:                          -0.001   Prob(JB):                        0.985\n",
      "Kurtosis:                       3.012   Cond. No.                         138.\n",
      "==============================================================================\n",
      "\n",
      "Notes:\n",
      "[1] Standard Errors assume that the covariance matrix of the errors is correctly specified.\n"
     ]
    }
   ],
   "source": [
    "X = df['TV']\n",
    "X = sm.add_constant(X)\n",
    "y = df['Sales']\n",
    "model = sm.OLS(y, X)\n",
    "results = model.fit()\n",
    "print(results.summary())"
   ]
  },
  {
   "cell_type": "code",
   "execution_count": 20,
   "id": "2fc47074-936e-430e-aa14-1e972aba1fe6",
   "metadata": {
    "tags": []
   },
   "outputs": [],
   "source": [
    "# A regression without a constant "
   ]
  },
  {
   "cell_type": "code",
   "execution_count": 21,
   "id": "217a1955-fbc9-4604-ae22-dc4510de442a",
   "metadata": {
    "tags": []
   },
   "outputs": [
    {
     "name": "stdout",
     "output_type": "stream",
     "text": [
      "                                 OLS Regression Results                                \n",
      "=======================================================================================\n",
      "Dep. Variable:                  Sales   R-squared (uncentered):                   1.000\n",
      "Model:                            OLS   Adj. R-squared (uncentered):              1.000\n",
      "Method:                 Least Squares   F-statistic:                          2.386e+07\n",
      "Date:                Mon, 15 Jul 2024   Prob (F-statistic):                        0.00\n",
      "Time:                        14:43:17   Log-Likelihood:                         -11367.\n",
      "No. Observations:                4546   AIC:                                  2.274e+04\n",
      "Df Residuals:                    4545   BIC:                                  2.274e+04\n",
      "Df Model:                           1                                                  \n",
      "Covariance Type:            nonrobust                                                  \n",
      "==============================================================================\n",
      "                 coef    std err          t      P>|t|      [0.025      0.975]\n",
      "------------------------------------------------------------------------------\n",
      "TV             3.5595      0.001   4884.964      0.000       3.558       3.561\n",
      "==============================================================================\n",
      "Omnibus:                        0.055   Durbin-Watson:                   1.999\n",
      "Prob(Omnibus):                  0.973   Jarque-Bera (JB):                0.033\n",
      "Skew:                          -0.001   Prob(JB):                        0.984\n",
      "Kurtosis:                       3.013   Cond. No.                         1.00\n",
      "==============================================================================\n",
      "\n",
      "Notes:\n",
      "[1] R² is computed without centering (uncentered) since the model does not contain a constant.\n",
      "[2] Standard Errors assume that the covariance matrix of the errors is correctly specified.\n"
     ]
    }
   ],
   "source": [
    "X = df['TV']\n",
    "y = df['Sales']\n",
    "model = sm.OLS(y, X)\n",
    "results = model.fit()\n",
    "print(results.summary())"
   ]
  },
  {
   "cell_type": "code",
   "execution_count": 22,
   "id": "a1b8d052-4b5f-4464-9c3a-7a6b85ee01fd",
   "metadata": {
    "tags": []
   },
   "outputs": [
    {
     "name": "stdout",
     "output_type": "stream",
     "text": [
      "R2:  0.9998095730613074\n"
     ]
    }
   ],
   "source": [
    "print(\"R2: \", results.rsquared)"
   ]
  },
  {
   "cell_type": "code",
   "execution_count": 23,
   "id": "a9404d51-a2ab-4232-a970-a2348fa4d029",
   "metadata": {
    "tags": []
   },
   "outputs": [
    {
     "name": "stdout",
     "output_type": "stream",
     "text": [
      "Parameters:  TV    3.559527\n",
      "dtype: float64\n"
     ]
    }
   ],
   "source": [
    "print(\"Parameters: \", results.params)"
   ]
  },
  {
   "cell_type": "code",
   "execution_count": 24,
   "id": "d89480d9-3a50-42ef-bb21-a8542809fcbb",
   "metadata": {
    "tags": []
   },
   "outputs": [
    {
     "name": "stdout",
     "output_type": "stream",
     "text": [
      "Standard errors:  TV    0.000729\n",
      "dtype: float64\n"
     ]
    }
   ],
   "source": [
    "print(\"Standard errors: \", results.bse)"
   ]
  },
  {
   "cell_type": "code",
   "execution_count": 25,
   "id": "445e0082-bfa7-4191-bf5b-c12581cac070",
   "metadata": {
    "tags": []
   },
   "outputs": [],
   "source": [
    "# Multiple linear regression with categorical variable"
   ]
  },
  {
   "cell_type": "code",
   "execution_count": 26,
   "id": "69f96dd9-2ffc-4a5a-bab2-404eedd51cbe",
   "metadata": {
    "tags": []
   },
   "outputs": [
    {
     "name": "stdout",
     "output_type": "stream",
     "text": [
      "                            OLS Regression Results                            \n",
      "==============================================================================\n",
      "Dep. Variable:                  Sales   R-squared:                       0.999\n",
      "Model:                            OLS   Adj. R-squared:                  0.999\n",
      "Method:                 Least Squares   F-statistic:                 1.129e+06\n",
      "Date:                Mon, 15 Jul 2024   Prob (F-statistic):               0.00\n",
      "Time:                        14:43:18   Log-Likelihood:                -11365.\n",
      "No. Observations:                4546   AIC:                         2.274e+04\n",
      "Df Residuals:                    4541   BIC:                         2.277e+04\n",
      "Df Model:                           4                                         \n",
      "Covariance Type:            nonrobust                                         \n",
      "===========================================================================================\n",
      "                              coef    std err          t      P>|t|      [0.025      0.975]\n",
      "-------------------------------------------------------------------------------------------\n",
      "const                      -0.1028      0.147     -0.697      0.486      -0.392       0.186\n",
      "TV                          3.5615      0.002   1804.788      0.000       3.558       3.565\n",
      "Social Media               -0.0228      0.036     -0.639      0.523      -0.093       0.047\n",
      "Influencer                 -0.0207      0.071     -0.292      0.771      -0.160       0.118\n",
      "Social Media*Influencer     0.0157      0.018      0.879      0.379      -0.019       0.051\n",
      "==============================================================================\n",
      "Omnibus:                        0.068   Durbin-Watson:                   1.998\n",
      "Prob(Omnibus):                  0.967   Jarque-Bera (JB):                0.043\n",
      "Skew:                          -0.001   Prob(JB):                        0.979\n",
      "Kurtosis:                       3.015   Cond. No.                         219.\n",
      "==============================================================================\n",
      "\n",
      "Notes:\n",
      "[1] Standard Errors assume that the covariance matrix of the errors is correctly specified.\n"
     ]
    }
   ],
   "source": [
    "X = df[['TV', 'Social Media', 'Influencer', 'Social Media*Influencer']]\n",
    "X = sm.add_constant(X)\n",
    "y = df['Sales']\n",
    "model = sm.OLS(y, X)\n",
    "results = model.fit()\n",
    "print(results.summary())"
   ]
  },
  {
   "cell_type": "code",
   "execution_count": 27,
   "id": "c721c4af-65e1-492a-bf70-7b03346fb393",
   "metadata": {
    "tags": []
   },
   "outputs": [],
   "source": [
    "# Multicollinearity"
   ]
  },
  {
   "cell_type": "code",
   "execution_count": 28,
   "id": "aec315c9-a2c1-45b4-909a-0c6e5701e8db",
   "metadata": {
    "tags": []
   },
   "outputs": [
    {
     "name": "stdout",
     "output_type": "stream",
     "text": [
      "    VIF \n",
      "===========\n"
     ]
    },
    {
     "data": {
      "text/plain": [
       "const                      11.365353\n",
       "TV                          1.386174\n",
       "Social Media                3.255242\n",
       "Influencer                  3.295400\n",
       "Social Media*Influencer     5.235476\n",
       "dtype: float64"
      ]
     },
     "execution_count": 28,
     "metadata": {},
     "output_type": "execute_result"
    }
   ],
   "source": [
    "from statsmodels.stats.outliers_influence import variance_inflation_factor\n",
    "X = df[['TV', 'Social Media', 'Influencer', 'Social Media*Influencer']]\n",
    "X = sm.add_constant(X)\n",
    "print('    VIF \\n===========')\n",
    "pd.Series([variance_inflation_factor(X.values, i) \n",
    "               for i in range(X.shape[1])], \n",
    "              index=X.columns)"
   ]
  },
  {
   "cell_type": "code",
   "execution_count": 29,
   "id": "5850b187-1e11-4bb9-85d8-3d8dbccaede2",
   "metadata": {},
   "outputs": [],
   "source": [
    "# Heteroskedasticity"
   ]
  },
  {
   "cell_type": "code",
   "execution_count": 30,
   "id": "a179aace-2042-485e-9bf6-556ff0e68a48",
   "metadata": {
    "tags": []
   },
   "outputs": [
    {
     "data": {
      "text/plain": [
       "Chi-Square-statistic          11.026224\n",
       "Prob(Chi-Square-statistic)     0.608621\n",
       "F-statistic                    0.847615\n",
       "Prob (F-statistic)             0.609228\n",
       "Name: White Test, dtype: float64"
      ]
     },
     "execution_count": 30,
     "metadata": {},
     "output_type": "execute_result"
    }
   ],
   "source": [
    "from statsmodels.stats.diagnostic import het_white\n",
    "X = df[['TV', 'Social Media', 'Influencer', 'Social Media*Influencer']]\n",
    "X = sm.add_constant(X)\n",
    "y = df['Sales']\n",
    "model = sm.OLS(y, X).fit()\n",
    "white_test = het_white(model.resid,  model.model.exog)\n",
    "index = ['Chi-Square-statistic', 'Prob(Chi-Square-statistic)', 'F-statistic' ,'Prob (F-statistic)']\n",
    "pd.Series(data = white_test, index = index, name = \"White Test\")"
   ]
  },
  {
   "cell_type": "code",
   "execution_count": 31,
   "id": "1d34ec26-0d28-4918-a63d-8bc724328704",
   "metadata": {
    "tags": []
   },
   "outputs": [
    {
     "name": "stdout",
     "output_type": "stream",
     "text": [
      "                            OLS Regression Results                            \n",
      "==============================================================================\n",
      "Dep. Variable:                  Sales   R-squared:                       0.999\n",
      "Model:                            OLS   Adj. R-squared:                  0.999\n",
      "Method:                 Least Squares   F-statistic:                 1.150e+06\n",
      "Date:                Mon, 15 Jul 2024   Prob (F-statistic):               0.00\n",
      "Time:                        14:43:18   Log-Likelihood:                -11365.\n",
      "No. Observations:                4546   AIC:                         2.274e+04\n",
      "Df Residuals:                    4541   BIC:                         2.277e+04\n",
      "Df Model:                           4                                         \n",
      "Covariance Type:                  HC1                                         \n",
      "===========================================================================================\n",
      "                              coef    std err          z      P>|z|      [0.025      0.975]\n",
      "-------------------------------------------------------------------------------------------\n",
      "const                      -0.1028      0.146     -0.705      0.481      -0.388       0.183\n",
      "TV                          3.5615      0.002   1828.000      0.000       3.558       3.565\n",
      "Social Media               -0.0228      0.036     -0.642      0.521      -0.092       0.047\n",
      "Influencer                 -0.0207      0.070     -0.295      0.768      -0.158       0.117\n",
      "Social Media*Influencer     0.0157      0.018      0.893      0.372      -0.019       0.050\n",
      "==============================================================================\n",
      "Omnibus:                        0.068   Durbin-Watson:                   1.998\n",
      "Prob(Omnibus):                  0.967   Jarque-Bera (JB):                0.043\n",
      "Skew:                          -0.001   Prob(JB):                        0.979\n",
      "Kurtosis:                       3.015   Cond. No.                         219.\n",
      "==============================================================================\n",
      "\n",
      "Notes:\n",
      "[1] Standard Errors are heteroscedasticity robust (HC1)\n"
     ]
    }
   ],
   "source": [
    "# regeession with robust standard errors\n",
    "X = df[['TV', 'Social Media', 'Influencer', 'Social Media*Influencer']]\n",
    "X = sm.add_constant(X)\n",
    "y = df['Sales']\n",
    "model = sm.OLS(y, X)\n",
    "results = model.fit(cov_type ='HC1')\n",
    "print(results.summary())"
   ]
  },
  {
   "cell_type": "code",
   "execution_count": 32,
   "id": "f3e04bb6-760c-4265-85ea-1ece3175deff",
   "metadata": {
    "tags": []
   },
   "outputs": [],
   "source": [
    "# Autocorrelation"
   ]
  },
  {
   "cell_type": "code",
   "execution_count": 33,
   "id": "3d745923-695a-4463-b5fa-da8871d6b7be",
   "metadata": {
    "tags": []
   },
   "outputs": [
    {
     "name": "stdout",
     "output_type": "stream",
     "text": [
      "                            OLS Regression Results                            \n",
      "==============================================================================\n",
      "Dep. Variable:                  Sales   R-squared:                       0.999\n",
      "Model:                            OLS   Adj. R-squared:                  0.999\n",
      "Method:                 Least Squares   F-statistic:                 1.129e+06\n",
      "Date:                Mon, 15 Jul 2024   Prob (F-statistic):               0.00\n",
      "Time:                        14:43:18   Log-Likelihood:                -11365.\n",
      "No. Observations:                4546   AIC:                         2.274e+04\n",
      "Df Residuals:                    4541   BIC:                         2.277e+04\n",
      "Df Model:                           4                                         \n",
      "Covariance Type:            nonrobust                                         \n",
      "===========================================================================================\n",
      "                              coef    std err          t      P>|t|      [0.025      0.975]\n",
      "-------------------------------------------------------------------------------------------\n",
      "const                      -0.1028      0.147     -0.697      0.486      -0.392       0.186\n",
      "TV                          3.5615      0.002   1804.788      0.000       3.558       3.565\n",
      "Social Media               -0.0228      0.036     -0.639      0.523      -0.093       0.047\n",
      "Influencer                 -0.0207      0.071     -0.292      0.771      -0.160       0.118\n",
      "Social Media*Influencer     0.0157      0.018      0.879      0.379      -0.019       0.051\n",
      "==============================================================================\n",
      "Omnibus:                        0.068   Durbin-Watson:                   1.998\n",
      "Prob(Omnibus):                  0.967   Jarque-Bera (JB):                0.043\n",
      "Skew:                          -0.001   Prob(JB):                        0.979\n",
      "Kurtosis:                       3.015   Cond. No.                         219.\n",
      "==============================================================================\n",
      "\n",
      "Notes:\n",
      "[1] Standard Errors assume that the covariance matrix of the errors is correctly specified.\n"
     ]
    }
   ],
   "source": [
    "X = df[['TV', 'Social Media', 'Influencer', 'Social Media*Influencer']]\n",
    "X = sm.add_constant(X)\n",
    "y = df['Sales']\n",
    "model = sm.OLS(y, X)\n",
    "results = model.fit()\n",
    "print(results.summary())\n",
    "# Durbin-Watson"
   ]
  },
  {
   "cell_type": "code",
   "execution_count": 34,
   "id": "04a6f45b-6e72-48ef-b919-92e3ed13b6df",
   "metadata": {
    "tags": []
   },
   "outputs": [
    {
     "name": "stdout",
     "output_type": "stream",
     "text": [
      "                            OLS Regression Results                            \n",
      "==============================================================================\n",
      "Dep. Variable:                  Sales   R-squared:                       0.999\n",
      "Model:                            OLS   Adj. R-squared:                  0.999\n",
      "Method:                 Least Squares   F-statistic:                 1.149e+06\n",
      "Date:                Mon, 15 Jul 2024   Prob (F-statistic):               0.00\n",
      "Time:                        14:43:18   Log-Likelihood:                -11365.\n",
      "No. Observations:                4546   AIC:                         2.274e+04\n",
      "Df Residuals:                    4541   BIC:                         2.277e+04\n",
      "Df Model:                           4                                         \n",
      "Covariance Type:                  HAC                                         \n",
      "===========================================================================================\n",
      "                              coef    std err          z      P>|z|      [0.025      0.975]\n",
      "-------------------------------------------------------------------------------------------\n",
      "const                      -0.1028      0.146     -0.705      0.481      -0.388       0.183\n",
      "TV                          3.5615      0.002   1821.098      0.000       3.558       3.565\n",
      "Social Media               -0.0228      0.036     -0.637      0.524      -0.093       0.047\n",
      "Influencer                 -0.0207      0.070     -0.295      0.768      -0.158       0.117\n",
      "Social Media*Influencer     0.0157      0.018      0.887      0.375      -0.019       0.050\n",
      "==============================================================================\n",
      "Omnibus:                        0.068   Durbin-Watson:                   1.998\n",
      "Prob(Omnibus):                  0.967   Jarque-Bera (JB):                0.043\n",
      "Skew:                          -0.001   Prob(JB):                        0.979\n",
      "Kurtosis:                       3.015   Cond. No.                         219.\n",
      "==============================================================================\n",
      "\n",
      "Notes:\n",
      "[1] Standard Errors are heteroscedasticity and autocorrelation robust (HAC) using 1 lags and without small sample correction\n"
     ]
    }
   ],
   "source": [
    "# Regression with Newey-West standard errors\n",
    "X = df[['TV', 'Social Media', 'Influencer', 'Social Media*Influencer']]\n",
    "X = sm.add_constant(X)\n",
    "y = df['Sales']\n",
    "model = sm.OLS(y, X)\n",
    "results = model.fit(cov_type ='HAC',cov_kwds={'maxlags':1})\n",
    "print(results.summary())"
   ]
  },
  {
   "cell_type": "code",
   "execution_count": 35,
   "id": "7eaa46ff-0cb2-4f1b-8a52-fd078fec4773",
   "metadata": {
    "tags": []
   },
   "outputs": [],
   "source": [
    "# Specification Error"
   ]
  },
  {
   "cell_type": "code",
   "execution_count": 36,
   "id": "3f9c558a-74e8-4523-be35-b12c7e554a73",
   "metadata": {
    "tags": []
   },
   "outputs": [
    {
     "data": {
      "text/plain": [
       "<class 'statsmodels.stats.contrast.ContrastResults'>\n",
       "<F test: F=0.6942296404892911, p=0.40477326897229504, df_denom=4.54e+03, df_num=1>"
      ]
     },
     "execution_count": 36,
     "metadata": {},
     "output_type": "execute_result"
    }
   ],
   "source": [
    "from statsmodels.stats.diagnostic import linear_reset\n",
    "X = df[['TV', 'Social Media', 'Influencer', 'Social Media*Influencer']].to_numpy()\n",
    "X = sm.add_constant(X)\n",
    "y = df['Sales'].to_numpy()\n",
    "model = sm.OLS(y, X).fit()\n",
    "linear_reset(res = model, power=2, test_type=\"fitted\", use_f=True)"
   ]
  }
 ],
 "metadata": {
  "kernelspec": {
   "display_name": "Python 3 (ipykernel)",
   "language": "python",
   "name": "python3"
  },
  "language_info": {
   "codemirror_mode": {
    "name": "ipython",
    "version": 3
   },
   "file_extension": ".py",
   "mimetype": "text/x-python",
   "name": "python",
   "nbconvert_exporter": "python",
   "pygments_lexer": "ipython3",
   "version": "3.11.5"
  }
 },
 "nbformat": 4,
 "nbformat_minor": 5
}
